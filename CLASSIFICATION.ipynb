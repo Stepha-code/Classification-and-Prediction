{
 "cells": [
  {
   "cell_type": "code",
   "execution_count": 36,
   "id": "b7b08a4a",
   "metadata": {},
   "outputs": [],
   "source": [
    "import pandas as pd\n",
    "import numpy as np\n",
    "import matplotlib.pyplot as plt\n",
    "import seaborn as sns\n",
    "%matplotlib inline\n"
   ]
  },
  {
   "cell_type": "code",
   "execution_count": 38,
   "id": "ec401707",
   "metadata": {},
   "outputs": [],
   "source": [
    "#import dataset\n",
    "Products = pd.read_csv(\"Products_Filtered.csv\")\n"
   ]
  },
  {
   "cell_type": "code",
   "execution_count": 39,
   "id": "88f4fe04",
   "metadata": {},
   "outputs": [
    {
     "data": {
      "text/plain": [
       "(606, 17)"
      ]
     },
     "execution_count": 39,
     "metadata": {},
     "output_type": "execute_result"
    }
   ],
   "source": [
    "#check the shape of our data frame\n",
    "Products.shape"
   ]
  },
  {
   "cell_type": "code",
   "execution_count": 40,
   "id": "80660e53",
   "metadata": {},
   "outputs": [
    {
     "name": "stdout",
     "output_type": "stream",
     "text": [
      "<class 'pandas.core.frame.DataFrame'>\n",
      "RangeIndex: 606 entries, 0 to 605\n",
      "Data columns (total 17 columns):\n",
      " #   Column                 Non-Null Count  Dtype  \n",
      "---  ------                 --------------  -----  \n",
      " 0   ProductKey             606 non-null    int64  \n",
      " 1   ProductAlternateKey    606 non-null    object \n",
      " 2   ProductSubcategoryKey  606 non-null    int64  \n",
      " 3   EnglishProductName     606 non-null    object \n",
      " 4   FrenchProductName      319 non-null    object \n",
      " 5   StandardCost           395 non-null    float64\n",
      " 6   FinishedGoodsFlag      606 non-null    bool   \n",
      " 7   SafetyStockLevel       606 non-null    int64  \n",
      " 8   ReorderPoint           606 non-null    int64  \n",
      " 9   ListPrice              395 non-null    float64\n",
      " 10  Weight                 282 non-null    float64\n",
      " 11  DaysToManufacture      606 non-null    int64  \n",
      " 12  ProductLine            380 non-null    object \n",
      " 13  DealerPrice            395 non-null    float64\n",
      " 14  Class                  330 non-null    object \n",
      " 15  ModelName              397 non-null    object \n",
      " 16  Status                 406 non-null    object \n",
      "dtypes: bool(1), float64(4), int64(5), object(7)\n",
      "memory usage: 76.5+ KB\n"
     ]
    }
   ],
   "source": [
    "#check the information of the dataframe \n",
    "Products.info()"
   ]
  },
  {
   "cell_type": "code",
   "execution_count": 41,
   "id": "c94f1326",
   "metadata": {},
   "outputs": [],
   "source": [
    "#drop all object colums to use the numeric variables for classification\n",
    "Products=Products.drop('ProductAlternateKey',axis=1)\n",
    "Products=Products.drop('EnglishProductName',axis=1)\n",
    "Products=Products.drop('FrenchProductName',axis=1)\n",
    "Products=Products.drop('ProductLine',axis=1)\n",
    "Products=Products.drop('Class',axis=1)\n",
    "Products=Products.drop('ModelName',axis=1)\n",
    "Products=Products.drop('Status',axis=1)\n",
    "\n"
   ]
  },
  {
   "cell_type": "code",
   "execution_count": 42,
   "id": "292fc719",
   "metadata": {},
   "outputs": [
    {
     "name": "stdout",
     "output_type": "stream",
     "text": [
      "<class 'pandas.core.frame.DataFrame'>\n",
      "RangeIndex: 606 entries, 0 to 605\n",
      "Data columns (total 10 columns):\n",
      " #   Column                 Non-Null Count  Dtype  \n",
      "---  ------                 --------------  -----  \n",
      " 0   ProductKey             606 non-null    int64  \n",
      " 1   ProductSubcategoryKey  606 non-null    int64  \n",
      " 2   StandardCost           395 non-null    float64\n",
      " 3   FinishedGoodsFlag      606 non-null    bool   \n",
      " 4   SafetyStockLevel       606 non-null    int64  \n",
      " 5   ReorderPoint           606 non-null    int64  \n",
      " 6   ListPrice              395 non-null    float64\n",
      " 7   Weight                 282 non-null    float64\n",
      " 8   DaysToManufacture      606 non-null    int64  \n",
      " 9   DealerPrice            395 non-null    float64\n",
      "dtypes: bool(1), float64(4), int64(5)\n",
      "memory usage: 43.3 KB\n"
     ]
    }
   ],
   "source": [
    "#check the information of the dataframe again \n",
    "Products.info()"
   ]
  },
  {
   "cell_type": "code",
   "execution_count": 43,
   "id": "b7aa434e",
   "metadata": {},
   "outputs": [
    {
     "data": {
      "text/html": [
       "<div>\n",
       "<style scoped>\n",
       "    .dataframe tbody tr th:only-of-type {\n",
       "        vertical-align: middle;\n",
       "    }\n",
       "\n",
       "    .dataframe tbody tr th {\n",
       "        vertical-align: top;\n",
       "    }\n",
       "\n",
       "    .dataframe thead th {\n",
       "        text-align: right;\n",
       "    }\n",
       "</style>\n",
       "<table border=\"1\" class=\"dataframe\">\n",
       "  <thead>\n",
       "    <tr style=\"text-align: right;\">\n",
       "      <th></th>\n",
       "      <th>ProductKey</th>\n",
       "      <th>ProductSubcategoryKey</th>\n",
       "      <th>StandardCost</th>\n",
       "      <th>SafetyStockLevel</th>\n",
       "      <th>ReorderPoint</th>\n",
       "      <th>ListPrice</th>\n",
       "      <th>Weight</th>\n",
       "      <th>DaysToManufacture</th>\n",
       "      <th>DealerPrice</th>\n",
       "    </tr>\n",
       "  </thead>\n",
       "  <tbody>\n",
       "    <tr>\n",
       "      <th>count</th>\n",
       "      <td>606.00000</td>\n",
       "      <td>606.000000</td>\n",
       "      <td>395.000000</td>\n",
       "      <td>606.000000</td>\n",
       "      <td>606.000000</td>\n",
       "      <td>395.000000</td>\n",
       "      <td>282.000000</td>\n",
       "      <td>606.000000</td>\n",
       "      <td>395.000000</td>\n",
       "    </tr>\n",
       "    <tr>\n",
       "      <th>mean</th>\n",
       "      <td>303.50000</td>\n",
       "      <td>7.945545</td>\n",
       "      <td>434.265829</td>\n",
       "      <td>495.201320</td>\n",
       "      <td>371.400990</td>\n",
       "      <td>747.661762</td>\n",
       "      <td>56.193227</td>\n",
       "      <td>1.201320</td>\n",
       "      <td>448.597060</td>\n",
       "    </tr>\n",
       "    <tr>\n",
       "      <th>std</th>\n",
       "      <td>175.08141</td>\n",
       "      <td>9.561044</td>\n",
       "      <td>497.379884</td>\n",
       "      <td>364.007114</td>\n",
       "      <td>273.005336</td>\n",
       "      <td>838.708451</td>\n",
       "      <td>158.000652</td>\n",
       "      <td>1.508893</td>\n",
       "      <td>503.225071</td>\n",
       "    </tr>\n",
       "    <tr>\n",
       "      <th>min</th>\n",
       "      <td>1.00000</td>\n",
       "      <td>0.000000</td>\n",
       "      <td>0.856500</td>\n",
       "      <td>4.000000</td>\n",
       "      <td>3.000000</td>\n",
       "      <td>2.290000</td>\n",
       "      <td>2.120000</td>\n",
       "      <td>0.000000</td>\n",
       "      <td>1.374000</td>\n",
       "    </tr>\n",
       "    <tr>\n",
       "      <th>25%</th>\n",
       "      <td>152.25000</td>\n",
       "      <td>0.000000</td>\n",
       "      <td>37.120900</td>\n",
       "      <td>100.000000</td>\n",
       "      <td>75.000000</td>\n",
       "      <td>69.990000</td>\n",
       "      <td>2.680000</td>\n",
       "      <td>0.000000</td>\n",
       "      <td>41.994000</td>\n",
       "    </tr>\n",
       "    <tr>\n",
       "      <th>50%</th>\n",
       "      <td>303.50000</td>\n",
       "      <td>2.000000</td>\n",
       "      <td>204.625100</td>\n",
       "      <td>500.000000</td>\n",
       "      <td>375.000000</td>\n",
       "      <td>364.090000</td>\n",
       "      <td>15.420000</td>\n",
       "      <td>1.000000</td>\n",
       "      <td>218.454000</td>\n",
       "    </tr>\n",
       "    <tr>\n",
       "      <th>75%</th>\n",
       "      <td>454.75000</td>\n",
       "      <td>14.000000</td>\n",
       "      <td>660.914200</td>\n",
       "      <td>1000.000000</td>\n",
       "      <td>750.000000</td>\n",
       "      <td>1204.324800</td>\n",
       "      <td>24.130000</td>\n",
       "      <td>1.000000</td>\n",
       "      <td>722.594900</td>\n",
       "    </tr>\n",
       "    <tr>\n",
       "      <th>max</th>\n",
       "      <td>606.00000</td>\n",
       "      <td>37.000000</td>\n",
       "      <td>2171.294200</td>\n",
       "      <td>1000.000000</td>\n",
       "      <td>750.000000</td>\n",
       "      <td>3578.270000</td>\n",
       "      <td>1050.000000</td>\n",
       "      <td>4.000000</td>\n",
       "      <td>2146.962000</td>\n",
       "    </tr>\n",
       "  </tbody>\n",
       "</table>\n",
       "</div>"
      ],
      "text/plain": [
       "       ProductKey  ProductSubcategoryKey  StandardCost  SafetyStockLevel  \\\n",
       "count   606.00000             606.000000    395.000000        606.000000   \n",
       "mean    303.50000               7.945545    434.265829        495.201320   \n",
       "std     175.08141               9.561044    497.379884        364.007114   \n",
       "min       1.00000               0.000000      0.856500          4.000000   \n",
       "25%     152.25000               0.000000     37.120900        100.000000   \n",
       "50%     303.50000               2.000000    204.625100        500.000000   \n",
       "75%     454.75000              14.000000    660.914200       1000.000000   \n",
       "max     606.00000              37.000000   2171.294200       1000.000000   \n",
       "\n",
       "       ReorderPoint    ListPrice       Weight  DaysToManufacture  DealerPrice  \n",
       "count    606.000000   395.000000   282.000000         606.000000   395.000000  \n",
       "mean     371.400990   747.661762    56.193227           1.201320   448.597060  \n",
       "std      273.005336   838.708451   158.000652           1.508893   503.225071  \n",
       "min        3.000000     2.290000     2.120000           0.000000     1.374000  \n",
       "25%       75.000000    69.990000     2.680000           0.000000    41.994000  \n",
       "50%      375.000000   364.090000    15.420000           1.000000   218.454000  \n",
       "75%      750.000000  1204.324800    24.130000           1.000000   722.594900  \n",
       "max      750.000000  3578.270000  1050.000000           4.000000  2146.962000  "
      ]
     },
     "execution_count": 43,
     "metadata": {},
     "output_type": "execute_result"
    }
   ],
   "source": [
    "#describe the dataframe\n",
    "Products.describe()\n"
   ]
  },
  {
   "cell_type": "code",
   "execution_count": 44,
   "id": "b8f0236b",
   "metadata": {},
   "outputs": [
    {
     "data": {
      "text/html": [
       "<div>\n",
       "<style scoped>\n",
       "    .dataframe tbody tr th:only-of-type {\n",
       "        vertical-align: middle;\n",
       "    }\n",
       "\n",
       "    .dataframe tbody tr th {\n",
       "        vertical-align: top;\n",
       "    }\n",
       "\n",
       "    .dataframe thead th {\n",
       "        text-align: right;\n",
       "    }\n",
       "</style>\n",
       "<table border=\"1\" class=\"dataframe\">\n",
       "  <thead>\n",
       "    <tr style=\"text-align: right;\">\n",
       "      <th></th>\n",
       "      <th>ProductKey</th>\n",
       "      <th>ProductSubcategoryKey</th>\n",
       "      <th>StandardCost</th>\n",
       "      <th>FinishedGoodsFlag</th>\n",
       "      <th>SafetyStockLevel</th>\n",
       "      <th>ReorderPoint</th>\n",
       "      <th>ListPrice</th>\n",
       "      <th>Weight</th>\n",
       "      <th>DaysToManufacture</th>\n",
       "      <th>DealerPrice</th>\n",
       "    </tr>\n",
       "  </thead>\n",
       "  <tbody>\n",
       "    <tr>\n",
       "      <th>0</th>\n",
       "      <td>False</td>\n",
       "      <td>False</td>\n",
       "      <td>True</td>\n",
       "      <td>False</td>\n",
       "      <td>False</td>\n",
       "      <td>False</td>\n",
       "      <td>True</td>\n",
       "      <td>True</td>\n",
       "      <td>False</td>\n",
       "      <td>True</td>\n",
       "    </tr>\n",
       "    <tr>\n",
       "      <th>1</th>\n",
       "      <td>False</td>\n",
       "      <td>False</td>\n",
       "      <td>True</td>\n",
       "      <td>False</td>\n",
       "      <td>False</td>\n",
       "      <td>False</td>\n",
       "      <td>True</td>\n",
       "      <td>True</td>\n",
       "      <td>False</td>\n",
       "      <td>True</td>\n",
       "    </tr>\n",
       "    <tr>\n",
       "      <th>2</th>\n",
       "      <td>False</td>\n",
       "      <td>False</td>\n",
       "      <td>True</td>\n",
       "      <td>False</td>\n",
       "      <td>False</td>\n",
       "      <td>False</td>\n",
       "      <td>True</td>\n",
       "      <td>True</td>\n",
       "      <td>False</td>\n",
       "      <td>True</td>\n",
       "    </tr>\n",
       "    <tr>\n",
       "      <th>3</th>\n",
       "      <td>False</td>\n",
       "      <td>False</td>\n",
       "      <td>True</td>\n",
       "      <td>False</td>\n",
       "      <td>False</td>\n",
       "      <td>False</td>\n",
       "      <td>True</td>\n",
       "      <td>True</td>\n",
       "      <td>False</td>\n",
       "      <td>True</td>\n",
       "    </tr>\n",
       "    <tr>\n",
       "      <th>4</th>\n",
       "      <td>False</td>\n",
       "      <td>False</td>\n",
       "      <td>True</td>\n",
       "      <td>False</td>\n",
       "      <td>False</td>\n",
       "      <td>False</td>\n",
       "      <td>True</td>\n",
       "      <td>True</td>\n",
       "      <td>False</td>\n",
       "      <td>True</td>\n",
       "    </tr>\n",
       "    <tr>\n",
       "      <th>...</th>\n",
       "      <td>...</td>\n",
       "      <td>...</td>\n",
       "      <td>...</td>\n",
       "      <td>...</td>\n",
       "      <td>...</td>\n",
       "      <td>...</td>\n",
       "      <td>...</td>\n",
       "      <td>...</td>\n",
       "      <td>...</td>\n",
       "      <td>...</td>\n",
       "    </tr>\n",
       "    <tr>\n",
       "      <th>601</th>\n",
       "      <td>False</td>\n",
       "      <td>False</td>\n",
       "      <td>False</td>\n",
       "      <td>False</td>\n",
       "      <td>False</td>\n",
       "      <td>False</td>\n",
       "      <td>False</td>\n",
       "      <td>False</td>\n",
       "      <td>False</td>\n",
       "      <td>False</td>\n",
       "    </tr>\n",
       "    <tr>\n",
       "      <th>602</th>\n",
       "      <td>False</td>\n",
       "      <td>False</td>\n",
       "      <td>False</td>\n",
       "      <td>False</td>\n",
       "      <td>False</td>\n",
       "      <td>False</td>\n",
       "      <td>False</td>\n",
       "      <td>False</td>\n",
       "      <td>False</td>\n",
       "      <td>False</td>\n",
       "    </tr>\n",
       "    <tr>\n",
       "      <th>603</th>\n",
       "      <td>False</td>\n",
       "      <td>False</td>\n",
       "      <td>False</td>\n",
       "      <td>False</td>\n",
       "      <td>False</td>\n",
       "      <td>False</td>\n",
       "      <td>False</td>\n",
       "      <td>False</td>\n",
       "      <td>False</td>\n",
       "      <td>False</td>\n",
       "    </tr>\n",
       "    <tr>\n",
       "      <th>604</th>\n",
       "      <td>False</td>\n",
       "      <td>False</td>\n",
       "      <td>False</td>\n",
       "      <td>False</td>\n",
       "      <td>False</td>\n",
       "      <td>False</td>\n",
       "      <td>False</td>\n",
       "      <td>False</td>\n",
       "      <td>False</td>\n",
       "      <td>False</td>\n",
       "    </tr>\n",
       "    <tr>\n",
       "      <th>605</th>\n",
       "      <td>False</td>\n",
       "      <td>False</td>\n",
       "      <td>False</td>\n",
       "      <td>False</td>\n",
       "      <td>False</td>\n",
       "      <td>False</td>\n",
       "      <td>False</td>\n",
       "      <td>False</td>\n",
       "      <td>False</td>\n",
       "      <td>False</td>\n",
       "    </tr>\n",
       "  </tbody>\n",
       "</table>\n",
       "<p>606 rows × 10 columns</p>\n",
       "</div>"
      ],
      "text/plain": [
       "     ProductKey  ProductSubcategoryKey  StandardCost  FinishedGoodsFlag  \\\n",
       "0         False                  False          True              False   \n",
       "1         False                  False          True              False   \n",
       "2         False                  False          True              False   \n",
       "3         False                  False          True              False   \n",
       "4         False                  False          True              False   \n",
       "..          ...                    ...           ...                ...   \n",
       "601       False                  False         False              False   \n",
       "602       False                  False         False              False   \n",
       "603       False                  False         False              False   \n",
       "604       False                  False         False              False   \n",
       "605       False                  False         False              False   \n",
       "\n",
       "     SafetyStockLevel  ReorderPoint  ListPrice  Weight  DaysToManufacture  \\\n",
       "0               False         False       True    True              False   \n",
       "1               False         False       True    True              False   \n",
       "2               False         False       True    True              False   \n",
       "3               False         False       True    True              False   \n",
       "4               False         False       True    True              False   \n",
       "..                ...           ...        ...     ...                ...   \n",
       "601             False         False      False   False              False   \n",
       "602             False         False      False   False              False   \n",
       "603             False         False      False   False              False   \n",
       "604             False         False      False   False              False   \n",
       "605             False         False      False   False              False   \n",
       "\n",
       "     DealerPrice  \n",
       "0           True  \n",
       "1           True  \n",
       "2           True  \n",
       "3           True  \n",
       "4           True  \n",
       "..           ...  \n",
       "601        False  \n",
       "602        False  \n",
       "603        False  \n",
       "604        False  \n",
       "605        False  \n",
       "\n",
       "[606 rows x 10 columns]"
      ]
     },
     "execution_count": 44,
     "metadata": {},
     "output_type": "execute_result"
    }
   ],
   "source": [
    "#check for missing values in the dataframe(where false means No missing or NAN value and True means there are Missing values or NAN )\n",
    "Products.isnull()"
   ]
  },
  {
   "cell_type": "code",
   "execution_count": 45,
   "id": "cbd8dcc9",
   "metadata": {},
   "outputs": [],
   "source": [
    "#drop missing values\n",
    "Products=Products.dropna()"
   ]
  },
  {
   "cell_type": "code",
   "execution_count": 46,
   "id": "98dfb204",
   "metadata": {},
   "outputs": [
    {
     "data": {
      "text/html": [
       "<div>\n",
       "<style scoped>\n",
       "    .dataframe tbody tr th:only-of-type {\n",
       "        vertical-align: middle;\n",
       "    }\n",
       "\n",
       "    .dataframe tbody tr th {\n",
       "        vertical-align: top;\n",
       "    }\n",
       "\n",
       "    .dataframe thead th {\n",
       "        text-align: right;\n",
       "    }\n",
       "</style>\n",
       "<table border=\"1\" class=\"dataframe\">\n",
       "  <thead>\n",
       "    <tr style=\"text-align: right;\">\n",
       "      <th></th>\n",
       "      <th>ProductKey</th>\n",
       "      <th>ProductSubcategoryKey</th>\n",
       "      <th>StandardCost</th>\n",
       "      <th>FinishedGoodsFlag</th>\n",
       "      <th>SafetyStockLevel</th>\n",
       "      <th>ReorderPoint</th>\n",
       "      <th>ListPrice</th>\n",
       "      <th>Weight</th>\n",
       "      <th>DaysToManufacture</th>\n",
       "      <th>DealerPrice</th>\n",
       "    </tr>\n",
       "  </thead>\n",
       "  <tbody>\n",
       "    <tr>\n",
       "      <th>237</th>\n",
       "      <td>False</td>\n",
       "      <td>False</td>\n",
       "      <td>False</td>\n",
       "      <td>False</td>\n",
       "      <td>False</td>\n",
       "      <td>False</td>\n",
       "      <td>False</td>\n",
       "      <td>False</td>\n",
       "      <td>False</td>\n",
       "      <td>False</td>\n",
       "    </tr>\n",
       "    <tr>\n",
       "      <th>238</th>\n",
       "      <td>False</td>\n",
       "      <td>False</td>\n",
       "      <td>False</td>\n",
       "      <td>False</td>\n",
       "      <td>False</td>\n",
       "      <td>False</td>\n",
       "      <td>False</td>\n",
       "      <td>False</td>\n",
       "      <td>False</td>\n",
       "      <td>False</td>\n",
       "    </tr>\n",
       "    <tr>\n",
       "      <th>239</th>\n",
       "      <td>False</td>\n",
       "      <td>False</td>\n",
       "      <td>False</td>\n",
       "      <td>False</td>\n",
       "      <td>False</td>\n",
       "      <td>False</td>\n",
       "      <td>False</td>\n",
       "      <td>False</td>\n",
       "      <td>False</td>\n",
       "      <td>False</td>\n",
       "    </tr>\n",
       "    <tr>\n",
       "      <th>240</th>\n",
       "      <td>False</td>\n",
       "      <td>False</td>\n",
       "      <td>False</td>\n",
       "      <td>False</td>\n",
       "      <td>False</td>\n",
       "      <td>False</td>\n",
       "      <td>False</td>\n",
       "      <td>False</td>\n",
       "      <td>False</td>\n",
       "      <td>False</td>\n",
       "    </tr>\n",
       "    <tr>\n",
       "      <th>241</th>\n",
       "      <td>False</td>\n",
       "      <td>False</td>\n",
       "      <td>False</td>\n",
       "      <td>False</td>\n",
       "      <td>False</td>\n",
       "      <td>False</td>\n",
       "      <td>False</td>\n",
       "      <td>False</td>\n",
       "      <td>False</td>\n",
       "      <td>False</td>\n",
       "    </tr>\n",
       "    <tr>\n",
       "      <th>...</th>\n",
       "      <td>...</td>\n",
       "      <td>...</td>\n",
       "      <td>...</td>\n",
       "      <td>...</td>\n",
       "      <td>...</td>\n",
       "      <td>...</td>\n",
       "      <td>...</td>\n",
       "      <td>...</td>\n",
       "      <td>...</td>\n",
       "      <td>...</td>\n",
       "    </tr>\n",
       "    <tr>\n",
       "      <th>601</th>\n",
       "      <td>False</td>\n",
       "      <td>False</td>\n",
       "      <td>False</td>\n",
       "      <td>False</td>\n",
       "      <td>False</td>\n",
       "      <td>False</td>\n",
       "      <td>False</td>\n",
       "      <td>False</td>\n",
       "      <td>False</td>\n",
       "      <td>False</td>\n",
       "    </tr>\n",
       "    <tr>\n",
       "      <th>602</th>\n",
       "      <td>False</td>\n",
       "      <td>False</td>\n",
       "      <td>False</td>\n",
       "      <td>False</td>\n",
       "      <td>False</td>\n",
       "      <td>False</td>\n",
       "      <td>False</td>\n",
       "      <td>False</td>\n",
       "      <td>False</td>\n",
       "      <td>False</td>\n",
       "    </tr>\n",
       "    <tr>\n",
       "      <th>603</th>\n",
       "      <td>False</td>\n",
       "      <td>False</td>\n",
       "      <td>False</td>\n",
       "      <td>False</td>\n",
       "      <td>False</td>\n",
       "      <td>False</td>\n",
       "      <td>False</td>\n",
       "      <td>False</td>\n",
       "      <td>False</td>\n",
       "      <td>False</td>\n",
       "    </tr>\n",
       "    <tr>\n",
       "      <th>604</th>\n",
       "      <td>False</td>\n",
       "      <td>False</td>\n",
       "      <td>False</td>\n",
       "      <td>False</td>\n",
       "      <td>False</td>\n",
       "      <td>False</td>\n",
       "      <td>False</td>\n",
       "      <td>False</td>\n",
       "      <td>False</td>\n",
       "      <td>False</td>\n",
       "    </tr>\n",
       "    <tr>\n",
       "      <th>605</th>\n",
       "      <td>False</td>\n",
       "      <td>False</td>\n",
       "      <td>False</td>\n",
       "      <td>False</td>\n",
       "      <td>False</td>\n",
       "      <td>False</td>\n",
       "      <td>False</td>\n",
       "      <td>False</td>\n",
       "      <td>False</td>\n",
       "      <td>False</td>\n",
       "    </tr>\n",
       "  </tbody>\n",
       "</table>\n",
       "<p>273 rows × 10 columns</p>\n",
       "</div>"
      ],
      "text/plain": [
       "     ProductKey  ProductSubcategoryKey  StandardCost  FinishedGoodsFlag  \\\n",
       "237       False                  False         False              False   \n",
       "238       False                  False         False              False   \n",
       "239       False                  False         False              False   \n",
       "240       False                  False         False              False   \n",
       "241       False                  False         False              False   \n",
       "..          ...                    ...           ...                ...   \n",
       "601       False                  False         False              False   \n",
       "602       False                  False         False              False   \n",
       "603       False                  False         False              False   \n",
       "604       False                  False         False              False   \n",
       "605       False                  False         False              False   \n",
       "\n",
       "     SafetyStockLevel  ReorderPoint  ListPrice  Weight  DaysToManufacture  \\\n",
       "237             False         False      False   False              False   \n",
       "238             False         False      False   False              False   \n",
       "239             False         False      False   False              False   \n",
       "240             False         False      False   False              False   \n",
       "241             False         False      False   False              False   \n",
       "..                ...           ...        ...     ...                ...   \n",
       "601             False         False      False   False              False   \n",
       "602             False         False      False   False              False   \n",
       "603             False         False      False   False              False   \n",
       "604             False         False      False   False              False   \n",
       "605             False         False      False   False              False   \n",
       "\n",
       "     DealerPrice  \n",
       "237        False  \n",
       "238        False  \n",
       "239        False  \n",
       "240        False  \n",
       "241        False  \n",
       "..           ...  \n",
       "601        False  \n",
       "602        False  \n",
       "603        False  \n",
       "604        False  \n",
       "605        False  \n",
       "\n",
       "[273 rows x 10 columns]"
      ]
     },
     "execution_count": 46,
     "metadata": {},
     "output_type": "execute_result"
    }
   ],
   "source": [
    "#check dataframe again for NAN or missing values\n",
    "Products.isnull()"
   ]
  },
  {
   "cell_type": "code",
   "execution_count": 47,
   "id": "9f648e9f",
   "metadata": {},
   "outputs": [
    {
     "data": {
      "text/plain": [
       "ProductKey               0\n",
       "ProductSubcategoryKey    0\n",
       "StandardCost             0\n",
       "FinishedGoodsFlag        0\n",
       "SafetyStockLevel         0\n",
       "ReorderPoint             0\n",
       "ListPrice                0\n",
       "Weight                   0\n",
       "DaysToManufacture        0\n",
       "DealerPrice              0\n",
       "dtype: int64"
      ]
     },
     "execution_count": 47,
     "metadata": {},
     "output_type": "execute_result"
    }
   ],
   "source": [
    "#check number of missing values in the whole dataframe\n",
    "Products.isnull().sum()"
   ]
  },
  {
   "cell_type": "code",
   "execution_count": 48,
   "id": "b23bdd79",
   "metadata": {},
   "outputs": [
    {
     "data": {
      "text/plain": [
       "1    136\n",
       "4    125\n",
       "2     12\n",
       "Name: DaysToManufacture, dtype: int64"
      ]
     },
     "execution_count": 48,
     "metadata": {},
     "output_type": "execute_result"
    }
   ],
   "source": [
    "#check the values in our 'Days to manufacture' variable\n",
    "Products['DaysToManufacture'].value_counts()"
   ]
  },
  {
   "cell_type": "code",
   "execution_count": 49,
   "id": "d5f5e2f6",
   "metadata": {},
   "outputs": [
    {
     "name": "stderr",
     "output_type": "stream",
     "text": [
      "C:\\Users\\44787\\anaconda3\\anaconda3\\lib\\site-packages\\seaborn\\_decorators.py:36: FutureWarning: Pass the following variable as a keyword arg: x. From version 0.12, the only valid positional argument will be `data`, and passing other arguments without an explicit keyword will result in an error or misinterpretation.\n",
      "  warnings.warn(\n"
     ]
    },
    {
     "data": {
      "image/png": "[encoded data removed]",
      "text/plain": [
       "<Figure size 640x480 with 1 Axes>"
      ]
     },
     "metadata": {},
     "output_type": "display_data"
    }
   ],
   "source": [
    "#create a plot for our 'Days to manufacture variable'\n",
    "sns.countplot(Products['DaysToManufacture'])\n",
    "plt.xlabel('DaysToManufacture')\n",
    "plt.ylabel('Count of DaysToManufacture')\n",
    "plt.title('DaysToManufacture variable count plot')\n",
    "plt.show()"
   ]
  },
  {
   "cell_type": "code",
   "execution_count": 50,
   "id": "8d6093c4",
   "metadata": {},
   "outputs": [],
   "source": [
    "#split dataframe to x and y\n",
    "\n",
    "X=Products.iloc[:,:-2]\n",
    "y=Products.iloc[:,-2]"
   ]
  },
  {
   "cell_type": "code",
   "execution_count": 51,
   "id": "43583944",
   "metadata": {},
   "outputs": [
    {
     "data": {
      "text/plain": [
       "(273, 8)"
      ]
     },
     "execution_count": 51,
     "metadata": {},
     "output_type": "execute_result"
    }
   ],
   "source": [
    "#check for the shape of x\n",
    "X.shape"
   ]
  },
  {
   "cell_type": "code",
   "execution_count": 52,
   "id": "a4c6c826",
   "metadata": {},
   "outputs": [
    {
     "data": {
      "text/plain": [
       "(273,)"
      ]
     },
     "execution_count": 52,
     "metadata": {},
     "output_type": "execute_result"
    }
   ],
   "source": [
    "#check for the shape of y\n",
    "y.shape"
   ]
  },
  {
   "cell_type": "code",
   "execution_count": 53,
   "id": "503ef5b1",
   "metadata": {},
   "outputs": [],
   "source": [
    "#split dataframe to training and test"
   ]
  },
  {
   "cell_type": "code",
   "execution_count": 54,
   "id": "7e8d64b5",
   "metadata": {},
   "outputs": [],
   "source": [
    "#import library from sklearn and use it to split the dataframe\n",
    "from sklearn.model_selection import train_test_split\n",
    "X_train, X_test, y_train, y_test = train_test_split(X, y, random_state=99)"
   ]
  },
  {
   "cell_type": "code",
   "execution_count": 55,
   "id": "820b09a6",
   "metadata": {},
   "outputs": [],
   "source": [
    "#import Random forest classifier\n",
    "from sklearn.ensemble import RandomForestClassifier\n",
    "clp=RandomForestClassifier(criterion='gini',\n",
    "                          max_depth=8,\n",
    "                          min_samples_split=10,\n",
    "                           random_state=5)"
   ]
  },
  {
   "cell_type": "code",
   "execution_count": 56,
   "id": "5117ed5f",
   "metadata": {},
   "outputs": [
    {
     "data": {
      "text/plain": [
       "RandomForestClassifier(max_depth=8, min_samples_split=10, random_state=5)"
      ]
     },
     "execution_count": 56,
     "metadata": {},
     "output_type": "execute_result"
    }
   ],
   "source": [
    "#input the random forest classifier\n",
    "clp.fit(X_train,y_train)"
   ]
  },
  {
   "cell_type": "code",
   "execution_count": 57,
   "id": "0a9d822f",
   "metadata": {},
   "outputs": [
    {
     "data": {
      "text/plain": [
       "array([0.05655256, 0.26838362, 0.06280255, 0.        , 0.19785648,\n",
       "       0.26082564, 0.03180642, 0.12177274])"
      ]
     },
     "execution_count": 57,
     "metadata": {},
     "output_type": "execute_result"
    }
   ],
   "source": [
    "#get the importance of each variable in terms of their percentage\n",
    "clp.feature_importances_"
   ]
  },
  {
   "cell_type": "code",
   "execution_count": 58,
   "id": "17d2ff1e",
   "metadata": {},
   "outputs": [
    {
     "data": {
      "text/plain": [
       "Index(['ProductKey', 'ProductSubcategoryKey', 'StandardCost',\n",
       "       'FinishedGoodsFlag', 'SafetyStockLevel', 'ReorderPoint', 'ListPrice',\n",
       "       'Weight', 'DaysToManufacture', 'DealerPrice'],\n",
       "      dtype='object')"
      ]
     },
     "execution_count": 58,
     "metadata": {},
     "output_type": "execute_result"
    }
   ],
   "source": [
    "#check which columns are more important in the dataframe\n",
    "Products.columns"
   ]
  },
  {
   "cell_type": "code",
   "execution_count": 59,
   "id": "2746e3c0",
   "metadata": {},
   "outputs": [],
   "source": [
    "#predictions for the X_test\n",
    "y_pred=clp.predict(X_test)"
   ]
  },
  {
   "cell_type": "code",
   "execution_count": 60,
   "id": "baf325bd",
   "metadata": {},
   "outputs": [
    {
     "data": {
      "text/plain": [
       "array([1, 4, 4, 4, 1, 4, 1, 1, 1, 1, 1, 1, 1, 4, 4, 4, 4, 1, 4, 4, 1, 1,\n",
       "       4, 1, 4, 1, 1, 4, 1, 4, 1, 4, 1, 1, 4, 4, 4, 1, 1, 4, 1, 4, 4, 1,\n",
       "       1, 1, 4, 1, 4, 1, 4, 4, 4, 4, 4, 1, 1, 1, 1, 1, 4, 4, 1, 4, 1, 4,\n",
       "       1, 4, 1], dtype=int64)"
      ]
     },
     "execution_count": 60,
     "metadata": {},
     "output_type": "execute_result"
    }
   ],
   "source": [
    "y_pred"
   ]
  },
  {
   "cell_type": "code",
   "execution_count": 61,
   "id": "c4239f8d",
   "metadata": {},
   "outputs": [
    {
     "data": {
      "text/plain": [
       "array([[34,  0,  0],\n",
       "       [ 2,  0,  0],\n",
       "       [ 0,  0, 33]], dtype=int64)"
      ]
     },
     "execution_count": 61,
     "metadata": {},
     "output_type": "execute_result"
    }
   ],
   "source": [
    "#check for correctly classified and misclassified variables with confusion metrix\n",
    "from sklearn.metrics import confusion_matrix\n",
    "confusion_matrix(y_test,y_pred)\n"
   ]
  },
  {
   "cell_type": "code",
   "execution_count": 62,
   "id": "776eb494",
   "metadata": {},
   "outputs": [
    {
     "data": {
      "text/plain": [
       "0.9710144927536232"
      ]
     },
     "execution_count": 62,
     "metadata": {},
     "output_type": "execute_result"
    }
   ],
   "source": [
    "#check for overall accuracy of the model\n",
    "from sklearn.metrics import accuracy_score\n",
    "accuracy_score(y_test,y_pred)"
   ]
  },
  {
   "cell_type": "code",
   "execution_count": 63,
   "id": "b84cf191",
   "metadata": {},
   "outputs": [
    {
     "name": "stderr",
     "output_type": "stream",
     "text": [
      "C:\\Users\\44787\\anaconda3\\anaconda3\\lib\\site-packages\\sklearn\\model_selection\\_split.py:676: UserWarning: The least populated class in y has only 10 members, which is less than n_splits=15.\n",
      "  warnings.warn(\n"
     ]
    },
    {
     "data": {
      "text/plain": [
       "array([0.92857143, 0.92857143, 1.        , 1.        , 1.        ,\n",
       "       1.        , 0.92857143, 0.92857143, 0.92857143, 1.        ,\n",
       "       1.        , 1.        , 1.        , 1.        , 1.        ])"
      ]
     },
     "execution_count": 63,
     "metadata": {},
     "output_type": "execute_result"
    }
   ],
   "source": [
    "#cross validation\n",
    "from sklearn.model_selection import cross_val_score\n",
    "cross_val_score(clp,X_train,y_train,cv=15)"
   ]
  },
  {
   "cell_type": "code",
   "execution_count": 64,
   "id": "ac6c0291",
   "metadata": {},
   "outputs": [
    {
     "name": "stdout",
     "output_type": "stream",
     "text": [
      "              precision    recall  f1-score   support\n",
      "\n",
      "           1       1.00      0.94      0.97        36\n",
      "           2       0.00      0.00      0.00         0\n",
      "           4       1.00      1.00      1.00        33\n",
      "\n",
      "    accuracy                           0.97        69\n",
      "   macro avg       0.67      0.65      0.66        69\n",
      "weighted avg       1.00      0.97      0.99        69\n",
      "\n"
     ]
    },
    {
     "name": "stderr",
     "output_type": "stream",
     "text": [
      "C:\\Users\\44787\\anaconda3\\anaconda3\\lib\\site-packages\\sklearn\\metrics\\_classification.py:1318: UndefinedMetricWarning: Recall and F-score are ill-defined and being set to 0.0 in labels with no true samples. Use `zero_division` parameter to control this behavior.\n",
      "  _warn_prf(average, modifier, msg_start, len(result))\n",
      "C:\\Users\\44787\\anaconda3\\anaconda3\\lib\\site-packages\\sklearn\\metrics\\_classification.py:1318: UndefinedMetricWarning: Recall and F-score are ill-defined and being set to 0.0 in labels with no true samples. Use `zero_division` parameter to control this behavior.\n",
      "  _warn_prf(average, modifier, msg_start, len(result))\n",
      "C:\\Users\\44787\\anaconda3\\anaconda3\\lib\\site-packages\\sklearn\\metrics\\_classification.py:1318: UndefinedMetricWarning: Recall and F-score are ill-defined and being set to 0.0 in labels with no true samples. Use `zero_division` parameter to control this behavior.\n",
      "  _warn_prf(average, modifier, msg_start, len(result))\n"
     ]
    }
   ],
   "source": [
    "#import classification report \n",
    "from sklearn.metrics import classification_report\n",
    "print(classification_report(y_pred,y_test))\n"
   ]
  },
  {
   "cell_type": "code",
   "execution_count": 65,
   "id": "6d29ae4c",
   "metadata": {},
   "outputs": [
    {
     "data": {
      "image/png": "[encoded data removed]",
      "text/plain": [
       "<Figure size 640x480 with 1 Axes>"
      ]
     },
     "metadata": {},
     "output_type": "display_data"
    }
   ],
   "source": [
    "#plot important features in the model\n",
    "features=Products.columns\n",
    "importances=clp.feature_importances_\n",
    "indices=np.argsort(importances)\n",
    "plt.title('Feature importances')\n",
    "plt.barh(range(len(indices)),importances[indices],color='b',align='center')\n",
    "plt.yticks(range(len(indices)),[features[i]for i in indices])\n",
    "plt.xlabel('Relative importance')\n",
    "plt.show()\n"
   ]
  },
  {
   "cell_type": "code",
   "execution_count": null,
   "id": "f7e740d9",
   "metadata": {},
   "outputs": [],
   "source": []
  }
 ],
 "metadata": {
  "kernelspec": {
   "display_name": "Python 3 (ipykernel)",
   "language": "python",
   "name": "python3"
  },
  "language_info": {
   "codemirror_mode": {
    "name": "ipython",
    "version": 3
   },
   "file_extension": ".py",
   "mimetype": "text/x-python",
   "name": "python",
   "nbconvert_exporter": "python",
   "pygments_lexer": "ipython3",
   "version": "3.9.13"
  }
 },
 "nbformat": 4,
 "nbformat_minor": 5
}
